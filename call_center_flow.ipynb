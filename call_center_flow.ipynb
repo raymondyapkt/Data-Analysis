{
  "nbformat": 4,
  "nbformat_minor": 0,
  "metadata": {
    "colab": {
      "provenance": [],
      "include_colab_link": true
    },
    "kernelspec": {
      "name": "python3",
      "display_name": "Python 3"
    },
    "language_info": {
      "name": "python"
    }
  },
  "cells": [
    {
      "cell_type": "markdown",
      "metadata": {
        "id": "view-in-github",
        "colab_type": "text"
      },
      "source": [
        "<a href=\"https://colab.research.google.com/github/raymondyapkt/Data-Analysis/blob/main/call_center_flow.ipynb\" target=\"_parent\"><img src=\"https://colab.research.google.com/assets/colab-badge.svg\" alt=\"Open In Colab\"/></a>"
      ]
    },
    {
      "cell_type": "markdown",
      "source": [
        "## plan 1 Flow 01 - Agent Join Campaign\n",
        "\n",
        "1) agent  login as CRM user\n",
        "\n",
        "2) agent  click \" join_campaign\" button\n",
        "  - \"system\" call agent's extension ID\n",
        "  - \"system\" detected \"agent auto answer\" sucessfull ***( === IPPBX fully ready)***\n",
        "  - \"system\" tag agent as \"green\" in \"agent pool\"\n",
        "  - \"system\" display agent status in  \"agent pool list\" <br><br>\n",
        "  - \"system\" create confrence_room_ID: cid00xxx\n",
        "  - \"system\" place agent into confrence_room_ID: cid00xxx\n",
        "<br><br>\n"
      ],
      "metadata": {
        "id": "VMiXs20mp2fZ"
      }
    },
    {
      "cell_type": "code",
      "source": [
        "def join_camp(crmUid, extPid):\n",
        "  ....\n",
        "# join_camp(\"crm33-0035\", \"20035\")"
      ],
      "metadata": {
        "id": "a2efj4oJrY9l"
      },
      "execution_count": null,
      "outputs": []
    },
    {
      "cell_type": "markdown",
      "source": [
        "## plan 1 Flow 02 - Campaign Start\n",
        "\n",
        "1) Campaign start , by any option\n",
        "  - Option (a) Manager press campaign start button <br>\n",
        "  - Option (b) auto start(/stop) by shift_start (shift_stop) timer    <br>\n",
        "\n",
        "2) when idle_agent >0 and leads >0\n",
        "  -  get next_right-agent()  -->  e.g. highest_rated among top N longest idle >\n",
        "  -  \"dialer\" makeCall() - call the first number in leads table <br>\n",
        "  -  \"dialer\" get calls() status\n",
        "    - if call() status is ringing (confirmed valid number), connect the call to confrence_room_ID: cid00xxx/extPid2xxx\n",
        "    - if call() \"status\" is not ringing , \"dialer\" send/return \"status\" , make next call\n",
        "\n",
        "3) when idle_agent =0 and leads >0\n",
        "  -  get next_right-agent()  -->  e.g. highest_rated among top N longest **talked** >\n",
        "  -  \"dialer\" makeCall() to leads <br>\n",
        "  -  \"dialer\" get calls() status\n",
        "    - if call() status is ringing (confirmed valid number), **\"park\"** the call to confrence_room_ID: cid00xxx/extPid2xxx\n",
        "    - if call() \"status\" is not ringing , \"dialer\" send/return \"status\"\n",
        "\n",
        "\n",
        "\n",
        "\n",
        "\n",
        "\n",
        "\n"
      ],
      "metadata": {
        "id": "CtdGK70H0PG9"
      }
    },
    {
      "cell_type": "code",
      "source": [
        "#  ringging group + auto answer better ?"
      ],
      "metadata": {
        "id": "UQgZuoJvm-8r"
      },
      "execution_count": null,
      "outputs": []
    },
    {
      "cell_type": "markdown",
      "source": [],
      "metadata": {
        "id": "zvSR8xW7m98D"
      }
    },
    {
      "cell_type": "markdown",
      "source": [
        "## plan 2  Flow 01 - Agent Join Campaign\n",
        "\n",
        "1) agent  login as CRM user\n",
        "\n",
        "2) agent  click \" join_campaign\" button\n",
        "  - \"system\" call agent's extension ID\n",
        "  - \"system\" detected agent auto answered sucessful  ***( === IPPBX fully ready)***\n",
        "  - \"system\" tag agent as \"green\" in \"agent pool\"\n",
        "  - \"system\" display agent status in  \"agent pool list\" <br><br>\n",
        "  - \"system\" create campGenGroup 3xx999 , if not existed\n",
        " <br><br>\n",
        "\n"
      ],
      "metadata": {
        "id": "srVOxPR0r-Rj"
      }
    },
    {
      "cell_type": "markdown",
      "source": [
        "## plan 2 : Flow 02 - Campaign Start\n",
        "\n",
        "1) Campaign started , by any option\n",
        "  - Option (a) Manager press campaign start button <br>\n",
        "  - Option (b) auto start(/stop) by shift_start (shift_stop) timer\n",
        "\n",
        "2) when leads >0\n",
        "  -  \"dialer\" makeCall() to leads\n",
        "  -  \"dialer\" get calls() \"status\"\n",
        "    - if call() \"status\" is not ringing , \"dialer\" send/return \"status\" , dial next number\n",
        "    - if call() status is ringing (confirmed valid number)\n",
        "      - if \"green\" agent is >0  --> get next_right-agent() e.g. highest_rated among top N longest idle --> pass the call to agent extPid\n",
        "      - if \"green\" agent is =0  --> pass the call to campGenGroup 3xx999 . first idle agent will gets the call\n",
        "\n",
        "\n",
        "\n",
        "\n",
        "\n",
        "\n",
        "\n"
      ],
      "metadata": {
        "id": "D0jXF376xb0O"
      }
    }
  ]
}